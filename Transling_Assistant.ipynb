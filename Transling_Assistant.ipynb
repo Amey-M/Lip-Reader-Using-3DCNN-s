{
  "nbformat": 4,
  "nbformat_minor": 0,
  "metadata": {
    "colab": {
      "provenance": [],
      "gpuType": "T4",
      "authorship_tag": "ABX9TyOyA6Rh02aolLpRWgiaB96t",
      "include_colab_link": true
    },
    "kernelspec": {
      "name": "python3",
      "display_name": "Python 3"
    },
    "language_info": {
      "name": "python"
    },
    "accelerator": "GPU"
  },
  "cells": [
    {
      "cell_type": "markdown",
      "metadata": {
        "id": "view-in-github",
        "colab_type": "text"
      },
      "source": [
        "<a href=\"https://colab.research.google.com/github/Amey-M/Lip-Reader-Using-3DCNN-s/blob/main/Transling_Assistant.ipynb\" target=\"_parent\"><img src=\"https://colab.research.google.com/assets/colab-badge.svg\" alt=\"Open In Colab\"/></a>"
      ]
    },
    {
      "cell_type": "code",
      "execution_count": 1,
      "metadata": {
        "colab": {
          "base_uri": "https://localhost:8080/"
        },
        "id": "At4ZOhaPxzgB",
        "outputId": "057d2059-1a7c-4759-d2e4-c4dab861cdde"
      },
      "outputs": [
        {
          "output_type": "stream",
          "name": "stdout",
          "text": [
            "Mounted at /content/drive\n"
          ]
        }
      ],
      "source": [
        "from google.colab import drive\n",
        "drive.mount('/content/drive')"
      ]
    },
    {
      "cell_type": "code",
      "source": [
        "import cv2\n",
        "import dlib\n",
        "import numpy as np\n",
        "import matplotlib.pyplot as plt\n",
        "import os\n",
        "import tensorflow as tf\n",
        "import imageio\n",
        "from typing import List"
      ],
      "metadata": {
        "id": "9LkaWm05yOL9"
      },
      "execution_count": 2,
      "outputs": []
    },
    {
      "cell_type": "code",
      "source": [
        "physical_devices = tf.config.list_physical_devices('GPU')\n",
        "try:\n",
        "    tf.config.experimental.set_memory_growth(physical_devices[0], True)\n",
        "except:\n",
        "    pass"
      ],
      "metadata": {
        "id": "TdsdCCLu1p3h"
      },
      "execution_count": 3,
      "outputs": []
    },
    {
      "cell_type": "code",
      "source": [
        "LIP_MARGIN = 0.3\n",
        "RESIZE = (140,46)\n",
        "\n",
        "face_detector = dlib.get_frontal_face_detector()\n",
        "landmark_detector = dlib.shape_predictor(\"/content/drive/MyDrive/TransLing Lip Detector/Dlib Detector/detector/shape_predictor_68_face_landmarks.dat\")"
      ],
      "metadata": {
        "id": "PCfixQNkyaSx"
      },
      "execution_count": 4,
      "outputs": []
    },
    {
      "cell_type": "code",
      "source": [
        "def shape_to_list(shape):\n",
        "\n",
        "    coords = []\n",
        "    for i in range(0, 68):\n",
        "        coords.append((shape.part(i).x, shape.part(i).y))\n",
        "\n",
        "    return coords"
      ],
      "metadata": {
        "id": "CRMz3vJaz0fg"
      },
      "execution_count": 5,
      "outputs": []
    },
    {
      "cell_type": "code",
      "source": [
        "def load_video(path:str) -> List[float]:\n",
        "\n",
        "    vid = cv2.VideoCapture(path)\n",
        "\n",
        "    frame_buffer = []\n",
        "    frame_buffer_color = []\n",
        "\n",
        "    while(True):\n",
        "\n",
        "        success, frame = vid.read()                     # Read frame\n",
        "        if not success: break                           # Break if no frame to read left\n",
        "\n",
        "        gray = cv2.cvtColor(frame,cv2.COLOR_BGR2GRAY)   # Convert image into grayscale\n",
        "        frame_buffer.append(gray)                       # Add gray-scale image to the frame buffer\n",
        "        frame_buffer_color.append(frame)                # Add color image to the color frame buffer\n",
        "\n",
        "    vid.release()\n",
        "\n",
        "    landmark_buffer = []    # Used to store the Facial Landmarks\n",
        "\n",
        "    for (i, image) in enumerate(frame_buffer):\n",
        "\n",
        "        face_rects = face_detector(image,1)    #detect the faces in the frame\n",
        "\n",
        "        if len(face_rects) < 1:\n",
        "            print(\"No face detected\")\n",
        "            break\n",
        "\n",
        "        if len(face_rects) > 1:\n",
        "            print(\"Multiple faces detected\")\n",
        "            break\n",
        "\n",
        "        rect = face_rects[0]\n",
        "\n",
        "        landmark = landmark_detector(image, rect)    # used to detect landmarks\n",
        "        landmark = shape_to_list(landmark)           # converting to list as dlib library output is in the 'shape' type\n",
        "        landmark_buffer.append(landmark)            # Add the landmarks to the buffer\n",
        "\n",
        "    cropped_buffer = []     # used to store the Lip landmarks\n",
        "\n",
        "    for (i, landmark) in enumerate(landmark_buffer):\n",
        "\n",
        "        lip_landmark = landmark[48:68] # landmarks corresponding to lips\n",
        "\n",
        "        lip_x = sorted(lip_landmark,key = lambda pointx: pointx[0])     # Lip landmark sorted for determining lip region\n",
        "        lip_y = sorted(lip_landmark, key = lambda pointy: pointy[1])\n",
        "\n",
        "        x_add = int((-lip_x[0][0]+lip_x[-1][0])*LIP_MARGIN)                     # Determine Margins for lip-only image\n",
        "        y_add = int((-lip_y[0][1]+lip_y[-1][1])*LIP_MARGIN)\n",
        "\n",
        "        crop_pos = (lip_x[0][0]-x_add, lip_x[-1][0]+x_add, lip_y[0][1]-y_add, lip_y[-1][1]+y_add)\n",
        "        cropped = frame_buffer_color[i][crop_pos[2]:crop_pos[3],crop_pos[0]:crop_pos[1]]        # Crop image\n",
        "        cropped = cv2.resize(cropped,(RESIZE[0],RESIZE[1]),interpolation=cv2.INTER_CUBIC)       # Resize the image to desired shape\n",
        "\n",
        "        cropped = tf.image.rgb_to_grayscale(cropped)\n",
        "\n",
        "        cropped_buffer.append(cropped)\n",
        "\n",
        "\n",
        "    mean = tf.math.reduce_mean(cropped_buffer)\n",
        "    std = tf.math.reduce_std(tf.cast(cropped_buffer, tf.float32))\n",
        "\n",
        "    return tf.cast((cropped_buffer - mean), tf.float32) / std"
      ],
      "metadata": {
        "id": "yWF7pZ5S0ASK"
      },
      "execution_count": 6,
      "outputs": []
    },
    {
      "cell_type": "code",
      "source": [
        "vocab = [x for x in \"abcdefghijklmnopqrstuvwxyz'?!123456789 \"]"
      ],
      "metadata": {
        "id": "tAQ3B7-q0ON9"
      },
      "execution_count": 7,
      "outputs": []
    },
    {
      "cell_type": "code",
      "source": [
        "char_to_num = tf.keras.layers.StringLookup(vocabulary=vocab, oov_token=\"\")\n",
        "num_to_char = tf.keras.layers.StringLookup(vocabulary=char_to_num.get_vocabulary(), oov_token=\"\", invert=True)\n",
        "\n",
        "print(f\"The vocabulary is: {char_to_num.get_vocabulary()}\"\n",
        "      f\"(size ={char_to_num.vocabulary_size()})\"\n",
        ")"
      ],
      "metadata": {
        "colab": {
          "base_uri": "https://localhost:8080/"
        },
        "id": "kogxteJc0R1L",
        "outputId": "6f1b18eb-1e41-416b-958f-92957115a28b"
      },
      "execution_count": 8,
      "outputs": [
        {
          "output_type": "stream",
          "name": "stdout",
          "text": [
            "The vocabulary is: ['', 'a', 'b', 'c', 'd', 'e', 'f', 'g', 'h', 'i', 'j', 'k', 'l', 'm', 'n', 'o', 'p', 'q', 'r', 's', 't', 'u', 'v', 'w', 'x', 'y', 'z', \"'\", '?', '!', '1', '2', '3', '4', '5', '6', '7', '8', '9', ' '](size =40)\n"
          ]
        }
      ]
    },
    {
      "cell_type": "code",
      "source": [
        "char_to_num.get_vocabulary()"
      ],
      "metadata": {
        "colab": {
          "base_uri": "https://localhost:8080/"
        },
        "id": "BwMSYCmg03Lp",
        "outputId": "cc8b9fb2-8900-47be-e0fe-3d27a82a2db6"
      },
      "execution_count": 9,
      "outputs": [
        {
          "output_type": "execute_result",
          "data": {
            "text/plain": [
              "['',\n",
              " 'a',\n",
              " 'b',\n",
              " 'c',\n",
              " 'd',\n",
              " 'e',\n",
              " 'f',\n",
              " 'g',\n",
              " 'h',\n",
              " 'i',\n",
              " 'j',\n",
              " 'k',\n",
              " 'l',\n",
              " 'm',\n",
              " 'n',\n",
              " 'o',\n",
              " 'p',\n",
              " 'q',\n",
              " 'r',\n",
              " 's',\n",
              " 't',\n",
              " 'u',\n",
              " 'v',\n",
              " 'w',\n",
              " 'x',\n",
              " 'y',\n",
              " 'z',\n",
              " \"'\",\n",
              " '?',\n",
              " '!',\n",
              " '1',\n",
              " '2',\n",
              " '3',\n",
              " '4',\n",
              " '5',\n",
              " '6',\n",
              " '7',\n",
              " '8',\n",
              " '9',\n",
              " ' ']"
            ]
          },
          "metadata": {},
          "execution_count": 9
        }
      ]
    },
    {
      "cell_type": "code",
      "source": [
        "char_to_num(['a','m','e','y','!'])"
      ],
      "metadata": {
        "colab": {
          "base_uri": "https://localhost:8080/"
        },
        "id": "BnrDRuVH07bj",
        "outputId": "055b3d52-27ae-4ca8-b805-ff61ced69eeb"
      },
      "execution_count": 10,
      "outputs": [
        {
          "output_type": "execute_result",
          "data": {
            "text/plain": [
              "<tf.Tensor: shape=(5,), dtype=int64, numpy=array([ 1, 13,  5, 25, 29])>"
            ]
          },
          "metadata": {},
          "execution_count": 10
        }
      ]
    },
    {
      "cell_type": "code",
      "source": [
        "num_to_char([ 1, 13,  5, 25]).numpy()"
      ],
      "metadata": {
        "colab": {
          "base_uri": "https://localhost:8080/"
        },
        "id": "4gqNSgQI0-Bx",
        "outputId": "54f7cd03-d24b-4599-db23-c6f480020e65"
      },
      "execution_count": 11,
      "outputs": [
        {
          "output_type": "execute_result",
          "data": {
            "text/plain": [
              "array([b'a', b'm', b'e', b'y'], dtype=object)"
            ]
          },
          "metadata": {},
          "execution_count": 11
        }
      ]
    },
    {
      "cell_type": "code",
      "source": [
        "def load_alignments(path:str) -> List[str]:\n",
        "\n",
        "    with open(path, 'r') as f:\n",
        "        lines = f.readlines()\n",
        "\n",
        "    tokens = []\n",
        "\n",
        "    for line in lines:\n",
        "        line = line.split()\n",
        "        if line[2] != 'sil':\n",
        "\n",
        "            tokens = [*tokens, ' ', line[2]]\n",
        "\n",
        "    return char_to_num(tf.reshape(tf.strings.unicode_split(tokens, input_encoding='UTF-8'), (-1)))[1:]"
      ],
      "metadata": {
        "id": "ELnj98xA1Gm_"
      },
      "execution_count": 12,
      "outputs": []
    },
    {
      "cell_type": "code",
      "source": [
        "def load_data(path:str):\n",
        "    path = bytes.decode(path.numpy())\n",
        "\n",
        "    file_name = path.split('/')[-1].split('.')[0]\n",
        "    video_path = os.path.join('/content','drive','MyDrive','TransLing Lip Detector', 'data', 's1', f'{file_name}.mpg')\n",
        "    alignment_path = os.path.join('/content','drive','MyDrive','TransLing Lip Detector', 'data', 'alignments', 's1', f'{file_name}.align')\n",
        "\n",
        "    frames = load_video(video_path)\n",
        "    alignments = load_alignments(alignment_path)\n",
        "\n",
        "    return frames, alignments"
      ],
      "metadata": {
        "id": "X_pqWL0O1Qtn"
      },
      "execution_count": 13,
      "outputs": []
    },
    {
      "cell_type": "code",
      "source": [
        "test_path = '/content/drive/MyDrive/TransLing Lip Detector/data/s1/bbaf2n.mpg'"
      ],
      "metadata": {
        "id": "WrR7_ZG71ThF"
      },
      "execution_count": 14,
      "outputs": []
    },
    {
      "cell_type": "code",
      "source": [
        "frames, alignments = load_data(tf.convert_to_tensor(test_path))"
      ],
      "metadata": {
        "id": "cD1jpJab1hep"
      },
      "execution_count": 15,
      "outputs": []
    },
    {
      "cell_type": "code",
      "source": [
        "alignments"
      ],
      "metadata": {
        "colab": {
          "base_uri": "https://localhost:8080/"
        },
        "id": "7LHmTroV2RKK",
        "outputId": "7f1ef7be-8027-4455-9641-58d02f993f07"
      },
      "execution_count": 16,
      "outputs": [
        {
          "output_type": "execute_result",
          "data": {
            "text/plain": [
              "<tf.Tensor: shape=(21,), dtype=int64, numpy=\n",
              "array([ 2,  9, 14, 39,  2, 12, 21,  5, 39,  1, 20, 39,  6, 39, 20, 23, 15,\n",
              "       39, 14, 15, 23])>"
            ]
          },
          "metadata": {},
          "execution_count": 16
        }
      ]
    },
    {
      "cell_type": "code",
      "source": [
        "frames.shape"
      ],
      "metadata": {
        "colab": {
          "base_uri": "https://localhost:8080/"
        },
        "id": "xSSAYP8q2fTe",
        "outputId": "7cecb7e6-07c5-459b-8738-758c3f04591e"
      },
      "execution_count": 17,
      "outputs": [
        {
          "output_type": "execute_result",
          "data": {
            "text/plain": [
              "TensorShape([75, 46, 140, 1])"
            ]
          },
          "metadata": {},
          "execution_count": 17
        }
      ]
    },
    {
      "cell_type": "code",
      "source": [
        "tf.strings.reduce_join([bytes.decode(x) for x in num_to_char(alignments.numpy()).numpy()])"
      ],
      "metadata": {
        "colab": {
          "base_uri": "https://localhost:8080/"
        },
        "id": "fbeXj9ze2kpI",
        "outputId": "a2ed021c-c418-4f43-9d8d-8732216f041b"
      },
      "execution_count": 18,
      "outputs": [
        {
          "output_type": "execute_result",
          "data": {
            "text/plain": [
              "<tf.Tensor: shape=(), dtype=string, numpy=b'bin blue at f two now'>"
            ]
          },
          "metadata": {},
          "execution_count": 18
        }
      ]
    },
    {
      "cell_type": "code",
      "source": [
        "def mappable_function(path:str) -> List[str]:\n",
        "    result = tf.py_function(load_data, [path], (tf.float32, tf.int64))\n",
        "    return result"
      ],
      "metadata": {
        "id": "P5-chxfV2lSf"
      },
      "execution_count": 19,
      "outputs": []
    },
    {
      "cell_type": "markdown",
      "source": [
        "## CREATING THE DATA PIPELINE"
      ],
      "metadata": {
        "id": "PR4Hc6cO23RF"
      }
    },
    {
      "cell_type": "code",
      "source": [
        "def filter_files(file_path):\n",
        "\n",
        "    files_to_remove = ['brwa4p.mpg', 'pbio7a.mpg', 'bwwuzn.mpg', 'sran9s.mpg', 'brwg8p.mpg', 'lrarzn.mpg', 'sbbh4p.mpg', 'Thumbs.db', 'pbwx1s.mpg', 'prii9a.mpg', 'lgbf8n.mpg', 'bbizzn.mpg']  # file names to remove\n",
        "    file_name = tf.strings.split(file_path, os.path.sep)[-1]  # Extract the file name from the path\n",
        "\n",
        "    return tf.math.logical_not(tf.reduce_any(tf.math.equal(file_name, files_to_remove)))"
      ],
      "metadata": {
        "id": "R25SRH6Z25Xp"
      },
      "execution_count": 20,
      "outputs": []
    },
    {
      "cell_type": "code",
      "source": [
        "database = tf.data.Dataset.list_files('/content/drive/MyDrive/TransLing Lip Detector/data/s1/*.mpg')\n",
        "\n",
        "k=0\n",
        "for i in database:\n",
        "    k=k+1\n",
        "    if k==1:\n",
        "        print(tf.strings.split(i, os.path.sep)[-1])\n",
        "\n",
        "print(k)\n",
        "print(\"************************\")\n",
        "\n",
        "database1 = database.filter(filter_files)\n",
        "\n",
        "k=0\n",
        "for i in database1:\n",
        "    k=k+1\n",
        "    if k==1:\n",
        "        print(tf.strings.split(i, os.path.sep)[-1])\n",
        "\n",
        "print(k)\n",
        "print(\"************************\")"
      ],
      "metadata": {
        "colab": {
          "base_uri": "https://localhost:8080/"
        },
        "id": "AhkIRJiv3Kg0",
        "outputId": "26ebcd11-f03f-4f0c-aad4-727e85614cf8"
      },
      "execution_count": 21,
      "outputs": [
        {
          "output_type": "stream",
          "name": "stdout",
          "text": [
            "tf.Tensor(b'lwal3s.mpg', shape=(), dtype=string)\n",
            "1000\n",
            "************************\n",
            "tf.Tensor(b'pwwq8n.mpg', shape=(), dtype=string)\n",
            "989\n",
            "************************\n"
          ]
        }
      ]
    },
    {
      "cell_type": "code",
      "source": [
        "data = tf.data.Dataset.list_files('/content/drive/MyDrive/TransLing Lip Detector/data/s1/*.mpg')  # get the files stored in the directory\n",
        "data = data.filter(filter_files)\n",
        "data = data.shuffle(500, reshuffle_each_iteration=False)  # shuffle the data for improved accuracy with parameter=500\n",
        "data = data.map(mappable_function)  # apply mappable function to each video to get the cropped video of the lips and its alignments\n",
        "data = data.padded_batch(2, padded_shapes=([75,None,None,None],[40]))  #take a batch of videos\n",
        "data = data.prefetch(tf.data.AUTOTUNE)  # prefetch to reduce run-time\n",
        "\n",
        "# for splitting into train and test\n",
        "\n",
        "train = data.take(450)\n",
        "train = train.repeat(count=-1)\n",
        "test = data.skip(450)"
      ],
      "metadata": {
        "id": "5uolpnaO3eyq"
      },
      "execution_count": 22,
      "outputs": []
    },
    {
      "cell_type": "code",
      "source": [
        "test"
      ],
      "metadata": {
        "colab": {
          "base_uri": "https://localhost:8080/"
        },
        "id": "ape5wv9i3zVs",
        "outputId": "573bd207-5d4d-4eb1-bcdb-400c4b5c60c3"
      },
      "execution_count": 23,
      "outputs": [
        {
          "output_type": "execute_result",
          "data": {
            "text/plain": [
              "<_SkipDataset element_spec=(TensorSpec(shape=(None, 75, None, None, None), dtype=tf.float32, name=None), TensorSpec(shape=(None, 40), dtype=tf.int64, name=None))>"
            ]
          },
          "metadata": {},
          "execution_count": 23
        }
      ]
    },
    {
      "cell_type": "code",
      "source": [
        "frames, alignments = data.as_numpy_iterator().next()"
      ],
      "metadata": {
        "id": "HivsJ7DyThu8"
      },
      "execution_count": 24,
      "outputs": []
    },
    {
      "cell_type": "code",
      "source": [
        "len(frames)"
      ],
      "metadata": {
        "colab": {
          "base_uri": "https://localhost:8080/"
        },
        "id": "gJkHyaL3TlQC",
        "outputId": "53396f94-2c55-4edb-8803-7c12cebdd881"
      },
      "execution_count": 25,
      "outputs": [
        {
          "output_type": "execute_result",
          "data": {
            "text/plain": [
              "2"
            ]
          },
          "metadata": {},
          "execution_count": 25
        }
      ]
    },
    {
      "cell_type": "code",
      "source": [
        "sample = data.as_numpy_iterator()"
      ],
      "metadata": {
        "id": "BUYdTIpZTntS"
      },
      "execution_count": 26,
      "outputs": []
    },
    {
      "cell_type": "code",
      "source": [
        "val = sample.next()\n",
        "val[0].shape"
      ],
      "metadata": {
        "colab": {
          "base_uri": "https://localhost:8080/"
        },
        "id": "sMf2LwWtTpij",
        "outputId": "ccdbd135-5e79-4e97-9eb1-6a71a602a19e"
      },
      "execution_count": 27,
      "outputs": [
        {
          "output_type": "execute_result",
          "data": {
            "text/plain": [
              "(2, 75, 46, 140, 1)"
            ]
          },
          "metadata": {},
          "execution_count": 27
        }
      ]
    },
    {
      "cell_type": "code",
      "source": [
        "plt.imshow(val[0][0][40])"
      ],
      "metadata": {
        "colab": {
          "base_uri": "https://localhost:8080/",
          "height": 244
        },
        "id": "MX_OP8D2Twdi",
        "outputId": "5ddfe3b9-1c27-437c-c8f9-8dfc9055efc7"
      },
      "execution_count": 28,
      "outputs": [
        {
          "output_type": "execute_result",
          "data": {
            "text/plain": [
              "<matplotlib.image.AxesImage at 0x7cc967fbecb0>"
            ]
          },
          "metadata": {},
          "execution_count": 28
        },
        {
          "output_type": "display_data",
          "data": {
            "text/plain": [
              "<Figure size 640x480 with 1 Axes>"
            ],
            "image/png": "[encoded data removed]"
          },
          "metadata": {}
        }
      ]
    },
    {
      "cell_type": "code",
      "source": [
        "tf.strings.reduce_join([num_to_char(word) for word in val[1][0]])"
      ],
      "metadata": {
        "colab": {
          "base_uri": "https://localhost:8080/"
        },
        "id": "WQiUR8bOUDUO",
        "outputId": "08bb0787-12e0-4cfe-e29b-c499160510f7"
      },
      "execution_count": 29,
      "outputs": [
        {
          "output_type": "execute_result",
          "data": {
            "text/plain": [
              "<tf.Tensor: shape=(), dtype=string, numpy=b'place red with q two now'>"
            ]
          },
          "metadata": {},
          "execution_count": 29
        }
      ]
    },
    {
      "cell_type": "markdown",
      "source": [
        "## Neural - Network"
      ],
      "metadata": {
        "id": "IjW5KY5JUGgd"
      }
    },
    {
      "cell_type": "code",
      "source": [
        "from tensorflow.keras.models import Sequential\n",
        "from tensorflow.keras.layers import Conv3D, LSTM, Dense, Dropout, Bidirectional, MaxPool3D, Activation, Reshape, SpatialDropout3D, BatchNormalization, TimeDistributed, Flatten\n",
        "from tensorflow.keras.optimizers.legacy import Adam\n",
        "from tensorflow.keras.callbacks import ModelCheckpoint, LearningRateScheduler"
      ],
      "metadata": {
        "id": "s-p1GZc0UKBM"
      },
      "execution_count": 30,
      "outputs": []
    },
    {
      "cell_type": "code",
      "source": [
        "data.as_numpy_iterator().next()[0][0].shape"
      ],
      "metadata": {
        "colab": {
          "base_uri": "https://localhost:8080/"
        },
        "id": "Rm7AwO6MUMNL",
        "outputId": "6f58677e-5aa8-4bb3-a029-c6437cdb7b17"
      },
      "execution_count": 31,
      "outputs": [
        {
          "output_type": "execute_result",
          "data": {
            "text/plain": [
              "(75, 46, 140, 1)"
            ]
          },
          "metadata": {},
          "execution_count": 31
        }
      ]
    },
    {
      "cell_type": "code",
      "source": [
        "model = Sequential()\n",
        "model.add(Conv3D(128, 3, input_shape=(75,46,140,1), padding='same'))\n",
        "model.add(Activation('relu'))\n",
        "model.add(MaxPool3D((1,2,2)))\n",
        "\n",
        "# More Powerful PC's can uncomment the following layers to better train the model\n",
        "#model.add(Conv3D(256, 3, padding='same'))\n",
        "#model.add(Activation('relu'))\n",
        "#model.add(MaxPool3D((1,2,2)))\n",
        "\n",
        "model.add(Conv3D(128, 3, padding='same'))\n",
        "model.add(Activation('relu'))\n",
        "model.add(MaxPool3D((1,2,2)))\n",
        "\n",
        "model.add(Conv3D(75, 3, padding='same'))\n",
        "model.add(Activation('relu'))\n",
        "model.add(MaxPool3D((1,2,2)))\n",
        "\n",
        "model.add(TimeDistributed(Flatten()))\n",
        "\n",
        "model.add(Bidirectional(LSTM(64, kernel_initializer='Orthogonal', return_sequences=True)))\n",
        "model.add(Dropout(.5))\n",
        "\n",
        "\n",
        "#model.add(Bidirectional(LSTM(64, kernel_initializer='Orthogonal', return_sequences=True)))\n",
        "#model.add(Dropout(.5))\n",
        "\n",
        "model.add(Dense(char_to_num.vocabulary_size()+1, kernel_initializer='he_normal', activation='softmax'))"
      ],
      "metadata": {
        "id": "NWXBBTl_UO4j"
      },
      "execution_count": 32,
      "outputs": []
    },
    {
      "cell_type": "code",
      "source": [
        "model.summary()"
      ],
      "metadata": {
        "colab": {
          "base_uri": "https://localhost:8080/"
        },
        "id": "CEzx8_zPUZ51",
        "outputId": "c3c1e7f6-982e-4aff-e954-1317d27f0779"
      },
      "execution_count": 33,
      "outputs": [
        {
          "output_type": "stream",
          "name": "stdout",
          "text": [
            "Model: \"sequential\"\n",
            "_________________________________________________________________\n",
            " Layer (type)                Output Shape              Param #   \n",
            "=================================================================\n",
            " conv3d (Conv3D)             (None, 75, 46, 140, 128   3584      \n",
            "                             )                                   \n",
            "                                                                 \n",
            " activation (Activation)     (None, 75, 46, 140, 128   0         \n",
            "                             )                                   \n",
            "                                                                 \n",
            " max_pooling3d (MaxPooling3  (None, 75, 23, 70, 128)   0         \n",
            " D)                                                              \n",
            "                                                                 \n",
            " conv3d_1 (Conv3D)           (None, 75, 23, 70, 128)   442496    \n",
            "                                                                 \n",
            " activation_1 (Activation)   (None, 75, 23, 70, 128)   0         \n",
            "                                                                 \n",
            " max_pooling3d_1 (MaxPoolin  (None, 75, 11, 35, 128)   0         \n",
            " g3D)                                                            \n",
            "                                                                 \n",
            " conv3d_2 (Conv3D)           (None, 75, 11, 35, 75)    259275    \n",
            "                                                                 \n",
            " activation_2 (Activation)   (None, 75, 11, 35, 75)    0         \n",
            "                                                                 \n",
            " max_pooling3d_2 (MaxPoolin  (None, 75, 5, 17, 75)     0         \n",
            " g3D)                                                            \n",
            "                                                                 \n",
            " time_distributed (TimeDist  (None, 75, 6375)          0         \n",
            " ributed)                                                        \n",
            "                                                                 \n",
            " bidirectional (Bidirection  (None, 75, 128)           3297280   \n",
            " al)                                                             \n",
            "                                                                 \n",
            " dropout (Dropout)           (None, 75, 128)           0         \n",
            "                                                                 \n",
            " dense (Dense)               (None, 75, 41)            5289      \n",
            "                                                                 \n",
            "=================================================================\n",
            "Total params: 4007924 (15.29 MB)\n",
            "Trainable params: 4007924 (15.29 MB)\n",
            "Non-trainable params: 0 (0.00 Byte)\n",
            "_________________________________________________________________\n"
          ]
        }
      ]
    },
    {
      "cell_type": "code",
      "source": [
        "yhat = model.predict(val[0])"
      ],
      "metadata": {
        "colab": {
          "base_uri": "https://localhost:8080/"
        },
        "id": "S4Uhgme4Ub1N",
        "outputId": "02bb5f82-600e-404f-b1ab-54800d1d1c65"
      },
      "execution_count": 34,
      "outputs": [
        {
          "output_type": "stream",
          "name": "stdout",
          "text": [
            "1/1 [==============================] - 8s 8s/step\n"
          ]
        }
      ]
    },
    {
      "cell_type": "code",
      "source": [
        "yhat.shape"
      ],
      "metadata": {
        "colab": {
          "base_uri": "https://localhost:8080/"
        },
        "id": "d1MnDs1YUnlW",
        "outputId": "a1c6fab9-75f7-4854-ae14-6f242def7740"
      },
      "execution_count": 35,
      "outputs": [
        {
          "output_type": "execute_result",
          "data": {
            "text/plain": [
              "(2, 75, 41)"
            ]
          },
          "metadata": {},
          "execution_count": 35
        }
      ]
    },
    {
      "cell_type": "code",
      "source": [
        "tf.argmax(yhat[0], axis=1)"
      ],
      "metadata": {
        "colab": {
          "base_uri": "https://localhost:8080/"
        },
        "id": "cWzxjkg4UrP7",
        "outputId": "45661637-9acb-4349-e76d-943908941258"
      },
      "execution_count": 36,
      "outputs": [
        {
          "output_type": "execute_result",
          "data": {
            "text/plain": [
              "<tf.Tensor: shape=(75,), dtype=int64, numpy=\n",
              "array([ 8,  1,  1,  1,  1,  1,  1,  1,  8,  8,  1,  1,  1,  1,  1,  1,  1,\n",
              "       35, 35, 35, 35, 35, 35, 35, 35, 35, 35, 35, 35, 35, 35, 35, 35, 35,\n",
              "       35, 35, 35, 35, 35, 35, 35, 35, 35, 35, 35, 35, 35, 35, 35, 35, 35,\n",
              "       35, 35, 35, 35, 35, 35,  1, 35,  1,  1,  1, 35,  1,  1,  1, 35,  1,\n",
              "        1,  1,  1, 35, 35, 35,  9])>"
            ]
          },
          "metadata": {},
          "execution_count": 36
        }
      ]
    },
    {
      "cell_type": "code",
      "source": [
        "tf.strings.reduce_join([num_to_char(x) for x in tf.argmax(yhat[0],axis=1)])"
      ],
      "metadata": {
        "colab": {
          "base_uri": "https://localhost:8080/"
        },
        "id": "9-y6RFRDUrrK",
        "outputId": "551c5968-251e-4934-cad9-6d989177c04e"
      },
      "execution_count": 37,
      "outputs": [
        {
          "output_type": "execute_result",
          "data": {
            "text/plain": [
              "<tf.Tensor: shape=(), dtype=string, numpy=b'haaaaaaahhaaaaaaa6666666666666666666666666666666666666666a6aaa6aaa6aaaa666i'>"
            ]
          },
          "metadata": {},
          "execution_count": 37
        }
      ]
    },
    {
      "cell_type": "code",
      "source": [
        "tf.strings.reduce_join([num_to_char(tf.argmax(x)) for x in yhat[0]])"
      ],
      "metadata": {
        "colab": {
          "base_uri": "https://localhost:8080/"
        },
        "id": "wy8c04HeUvOA",
        "outputId": "93ccd641-c3bf-41a8-a465-aeec2d4ce98b"
      },
      "execution_count": 38,
      "outputs": [
        {
          "output_type": "execute_result",
          "data": {
            "text/plain": [
              "<tf.Tensor: shape=(), dtype=string, numpy=b'haaaaaaahhaaaaaaa6666666666666666666666666666666666666666a6aaa6aaa6aaaa666i'>"
            ]
          },
          "metadata": {},
          "execution_count": 38
        }
      ]
    },
    {
      "cell_type": "code",
      "source": [
        "model.input_shape"
      ],
      "metadata": {
        "colab": {
          "base_uri": "https://localhost:8080/"
        },
        "id": "6mmDnzylUx_3",
        "outputId": "81cfd6d2-8663-4b20-d73e-9d77bdda9dca"
      },
      "execution_count": 39,
      "outputs": [
        {
          "output_type": "execute_result",
          "data": {
            "text/plain": [
              "(None, 75, 46, 140, 1)"
            ]
          },
          "metadata": {},
          "execution_count": 39
        }
      ]
    },
    {
      "cell_type": "code",
      "source": [
        "model.output_shape"
      ],
      "metadata": {
        "colab": {
          "base_uri": "https://localhost:8080/"
        },
        "id": "TemP-frSUz-v",
        "outputId": "9ac53d30-234c-4d80-cc7a-8b64b19a88ae"
      },
      "execution_count": 40,
      "outputs": [
        {
          "output_type": "execute_result",
          "data": {
            "text/plain": [
              "(None, 75, 41)"
            ]
          },
          "metadata": {},
          "execution_count": 40
        }
      ]
    },
    {
      "cell_type": "markdown",
      "source": [
        "## Training"
      ],
      "metadata": {
        "id": "J2xoJrSlU5e-"
      }
    },
    {
      "cell_type": "code",
      "source": [
        "def scheduler(epoch, lr):\n",
        "    if epoch < 30:\n",
        "        return lr\n",
        "    else:\n",
        "        return lr * tf.math.exp(-0.1)"
      ],
      "metadata": {
        "id": "b1TBIWMrU1YH"
      },
      "execution_count": 41,
      "outputs": []
    },
    {
      "cell_type": "code",
      "source": [
        "def CTCLoss(y_true, y_pred):\n",
        "    batch_len = tf.cast(tf.shape(y_true)[0], dtype=\"int64\")\n",
        "    input_length = tf.cast(tf.shape(y_pred)[1], dtype=\"int64\")\n",
        "    label_length = tf.cast(tf.shape(y_true)[1], dtype=\"int64\")\n",
        "\n",
        "    input_length = input_length * tf.ones(shape=(batch_len, 1), dtype=\"int64\")\n",
        "    label_length = label_length * tf.ones(shape=(batch_len, 1), dtype=\"int64\")\n",
        "\n",
        "    loss = tf.keras.backend.ctc_batch_cost(y_true, y_pred, input_length, label_length)\n",
        "    return loss"
      ],
      "metadata": {
        "id": "EjagvIbHU9sS"
      },
      "execution_count": 42,
      "outputs": []
    },
    {
      "cell_type": "code",
      "source": [
        "class ProduceExample(tf.keras.callbacks.Callback):\n",
        "    def __init__(self, dataset) -> None:\n",
        "        self.dataset = dataset.as_numpy_iterator()\n",
        "\n",
        "    def on_epoch_end(self, epoch, logs=None) -> None:\n",
        "        data = self.dataset.next()\n",
        "        yhat = self.model.predict(data[0])\n",
        "        decoded = tf.keras.backend.ctc_decode(yhat, [75,75], greedy=False)[0][0].numpy()\n",
        "        for x in range(len(yhat)):\n",
        "            print('Original:', tf.strings.reduce_join(num_to_char(data[1][x])).numpy().decode('utf-8'))\n",
        "            print('Prediction:', tf.strings.reduce_join(num_to_char(decoded[x])).numpy().decode('utf-8'))\n",
        "            print('~'*100)"
      ],
      "metadata": {
        "id": "IMsJVe3JU_Uh"
      },
      "execution_count": 43,
      "outputs": []
    },
    {
      "cell_type": "code",
      "source": [
        "model.compile(optimizer=Adam(learning_rate=0.0001), loss=CTCLoss)"
      ],
      "metadata": {
        "id": "-g_v9GuGVC4T"
      },
      "execution_count": 44,
      "outputs": []
    },
    {
      "cell_type": "code",
      "source": [
        "checkpoint_callback = ModelCheckpoint(os.path.join('/content','drive','MyDrive','TransLing Lip Detector','models','checkpoint'), monitor='loss', save_weights_only=True)"
      ],
      "metadata": {
        "id": "ASD-O8MqVE53"
      },
      "execution_count": 45,
      "outputs": []
    },
    {
      "cell_type": "code",
      "source": [
        "schedule_callback = LearningRateScheduler(scheduler)"
      ],
      "metadata": {
        "id": "F3rHNj2_VG4R"
      },
      "execution_count": 46,
      "outputs": []
    },
    {
      "cell_type": "code",
      "source": [
        "example_callback = ProduceExample(test)"
      ],
      "metadata": {
        "id": "BNrX7Ky8VIsu"
      },
      "execution_count": 47,
      "outputs": []
    },
    {
      "cell_type": "code",
      "source": [
        "model.fit(train, epochs=50, callbacks=[schedule_callback, checkpoint_callback], steps_per_epoch=100)"
      ],
      "metadata": {
        "colab": {
          "base_uri": "https://localhost:8080/"
        },
        "id": "aSbtzr9EVKe_",
        "outputId": "46fc743a-39fb-4d3b-81d0-b9f760ac685b"
      },
      "execution_count": null,
      "outputs": [
        {
          "output_type": "stream",
          "name": "stdout",
          "text": [
            "Epoch 1/50\n",
            "100/100 [==============================] - 1011s 10s/step - loss: 108.7515 - lr: 1.0000e-04\n",
            "Epoch 2/50\n",
            "100/100 [==============================] - 1002s 10s/step - loss: 88.2771 - lr: 1.0000e-04\n",
            "Epoch 3/50\n",
            "100/100 [==============================] - 1009s 10s/step - loss: 83.7511 - lr: 1.0000e-04\n",
            "Epoch 4/50\n",
            "100/100 [==============================] - 1005s 10s/step - loss: 78.0874 - lr: 1.0000e-04\n",
            "Epoch 5/50\n",
            "100/100 [==============================] - 980s 10s/step - loss: 75.2141 - lr: 1.0000e-04\n",
            "Epoch 6/50\n",
            "100/100 [==============================] - 954s 10s/step - loss: 73.6275 - lr: 1.0000e-04\n",
            "Epoch 7/50\n",
            "100/100 [==============================] - 960s 10s/step - loss: 72.9572 - lr: 1.0000e-04\n",
            "Epoch 8/50\n",
            "100/100 [==============================] - 968s 10s/step - loss: 71.7320 - lr: 1.0000e-04\n",
            "Epoch 9/50\n",
            "100/100 [==============================] - 960s 10s/step - loss: 72.3434 - lr: 1.0000e-04\n",
            "Epoch 10/50\n",
            "100/100 [==============================] - 969s 10s/step - loss: 70.5167 - lr: 1.0000e-04\n",
            "Epoch 11/50\n",
            "100/100 [==============================] - 965s 10s/step - loss: 69.5988 - lr: 1.0000e-04\n",
            "Epoch 12/50\n",
            "100/100 [==============================] - 971s 10s/step - loss: 68.7130 - lr: 1.0000e-04\n",
            "Epoch 13/50\n",
            "100/100 [==============================] - 933s 9s/step - loss: 68.3606 - lr: 1.0000e-04\n",
            "Epoch 14/50\n",
            "100/100 [==============================] - 946s 9s/step - loss: 68.2794 - lr: 1.0000e-04\n",
            "Epoch 15/50\n",
            "100/100 [==============================] - 939s 9s/step - loss: 66.8955 - lr: 1.0000e-04\n",
            "Epoch 16/50\n",
            "100/100 [==============================] - 926s 9s/step - loss: 67.2555 - lr: 1.0000e-04\n",
            "Epoch 17/50\n",
            "100/100 [==============================] - 913s 9s/step - loss: 66.4666 - lr: 1.0000e-04\n",
            "Epoch 18/50\n",
            "100/100 [==============================] - 923s 9s/step - loss: 65.0435 - lr: 1.0000e-04\n",
            "Epoch 19/50\n",
            "100/100 [==============================] - 931s 9s/step - loss: 65.4666 - lr: 1.0000e-04\n",
            "Epoch 20/50\n",
            "100/100 [==============================] - 930s 9s/step - loss: 65.2103 - lr: 1.0000e-04\n",
            "Epoch 21/50\n",
            "100/100 [==============================] - 923s 9s/step - loss: 64.3126 - lr: 1.0000e-04\n",
            "Epoch 22/50\n",
            "100/100 [==============================] - 925s 9s/step - loss: 64.2349 - lr: 1.0000e-04\n",
            "Epoch 23/50\n",
            " 86/100 [========================>.....] - ETA: 2:09 - loss: 64.5125"
          ]
        }
      ]
    },
    {
      "cell_type": "code",
      "source": [],
      "metadata": {
        "id": "oteYrArJfItj"
      },
      "execution_count": null,
      "outputs": []
    }
  ]
}